{
 "cells": [
  {
   "cell_type": "markdown",
   "metadata": {},
   "source": [
    "# Deploying Models"
   ]
  },
  {
   "cell_type": "markdown",
   "metadata": {},
   "source": [
    "Let's get started by installing some packages (skip if you have them)."
   ]
  },
  {
   "cell_type": "code",
   "execution_count": null,
   "metadata": {},
   "outputs": [],
   "source": [
    "!pip install boto3\n",
    "!pip install sagemaker"
   ]
  },
  {
   "cell_type": "code",
   "execution_count": 3,
   "metadata": {},
   "outputs": [],
   "source": [
    "import json\n",
    "import boto3\n",
    "import sagemaker as sage\n",
    "from sagemaker import get_execution_role\n",
    "from sagemaker import ModelPackage"
   ]
  },
  {
   "cell_type": "markdown",
   "metadata": {},
   "source": [
    "Let's first create the configuration for each of the models that we are going use."
   ]
  },
  {
   "cell_type": "code",
   "execution_count": 4,
   "metadata": {},
   "outputs": [],
   "source": [
    "SUMMARIZER_MODEL_CONFIG = {\n",
    "    'name': 'summarizer',\n",
    "    'content_type':'text/plain',\n",
    "    'instance_type': 'ml.m4.xlarge',\n",
    "    'arn': 'arn:aws:sagemaker:us-east-1:865070037744:model-package/marketplace-text-summarizer-e316c0bc7da2305368d5493465af0802'\n",
    "}\n",
    "EXPERT_TICKETS_MODEL_CONFIG = {\n",
    "    'name': 'expert-tickets',\n",
    "    'content_type':'text/csv',\n",
    "    'instance_type': 'ml.m5.xlarge',\n",
    "    'arn': 'arn:aws:sagemaker:us-east-1:865070037744:model-package/marketplace-expert-b3bae5926e152cd3c0e2e783cc50f837'\n",
    "}\n",
    "ADDRESS_MODEL_CONFIG = {\n",
    "    'name': 'address-extract',\n",
    "    'content_type':'text/plain',\n",
    "    'instance_type': 'ml.m4.xlarge',\n",
    "    'arn': 'arn:aws:sagemaker:us-east-1:865070037744:model-package/address-extraction-update-copy-2842b75335671181216be9b46aec2af6'\n",
    "}\n",
    "WIREFRAME_CONFIG = {\n",
    "    'name': 'wireframe',\n",
    "    'content_type':'image/jpeg',\n",
    "    'instance_type': 'ml.m5.xlarge',\n",
    "    'arn': 'arn:aws:sagemaker:us-east-1:865070037744:model-package/wireframetocode-01-30-517aa954c6cea79683836daa20955a5c'\n",
    "}\n",
    "SIMILARITY_CONFIG = {\n",
    "    'name': 'similarity',\n",
    "    'content_type':'ml.m5.4xlarge',\n",
    "    'instance_type': 'ml.m5.4xlarge',\n",
    "    'arn': 'arn:aws:sagemaker:us-east-1:865070037744:model-package/dynamic-ai-demo-617ce7e562c6bd730e798be57baa4605'\n",
    "}\n",
    "\n",
    "PASSPORT_CONFIG = {\n",
    "    'name': 'passport',\n",
    "    'content_type':'image/jpeg',\n",
    "    'instance_type': 'ml.m4.xlarge',\n",
    "    'arn': 'arn:aws:sagemaker:us-east-1:865070037744:model-package/gtriip-passport-ic-m5-7-62ae9e20b9779c8073d3393d0d93b5fe'\n",
    "}"
   ]
  },
  {
   "cell_type": "markdown",
   "metadata": {},
   "source": [
    "Here we create a generic class called **Model** to create a model based on its configuration."
   ]
  },
  {
   "cell_type": "code",
   "execution_count": 5,
   "metadata": {},
   "outputs": [],
   "source": [
    "class Model():\n",
    "    def __init__(self, config):\n",
    "        self.name = config['name']\n",
    "        self.instance_type =  config['instance_type']\n",
    "        self.content_type =  config['content_type']\n",
    "        self.model_package_arn =  config['arn']\n",
    "    \n",
    "    def _predict_wrapper(self, endpoint, session):\n",
    "        return sage.RealTimePredictor(endpoint, session, self.content_type)\n",
    "    \n",
    "    def cleanup(self):\n",
    "        self.predictor.delete_endpoint(delete_endpoint_config=True)\n",
    "        self.predictor.delete_model()        \n",
    "        \n",
    "    def remove_endpoint(self):\n",
    "        self.predictor.delete_endpoint(delete_endpoint_config=True)\n",
    "\n",
    "    def create_and_deploy(self, role, session):\n",
    "        #create a deployable model from the model package.\n",
    "        self.model_package = ModelPackage(role=role,\n",
    "                            model_package_arn=self.model_package_arn,\n",
    "                            sagemaker_session=session,\n",
    "                            predictor_cls=self._predict_wrapper)\n",
    "\n",
    "        #Deploy the model\n",
    "        self.predictor = self.model_package.deploy(1, self.instance_type, endpoint_name=self.name)\n",
    "        return self.predictor"
   ]
  },
  {
   "cell_type": "markdown",
   "metadata": {},
   "source": [
    "Let's create a session."
   ]
  },
  {
   "cell_type": "code",
   "execution_count": 6,
   "metadata": {},
   "outputs": [],
   "source": [
    "session = sage.Session()\n",
    "role = 'AmazonSageMakerFull'"
   ]
  },
  {
   "cell_type": "markdown",
   "metadata": {},
   "source": [
    "### Deploy passport model"
   ]
  },
  {
   "cell_type": "code",
   "execution_count": null,
   "metadata": {},
   "outputs": [],
   "source": [
    "model_passport = Model(PASSPORT_CONFIG)\n",
    "model_passport.create_and_deploy(role, session)"
   ]
  },
  {
   "cell_type": "markdown",
   "metadata": {},
   "source": [
    "### Deploy wireframe model"
   ]
  },
  {
   "cell_type": "code",
   "execution_count": null,
   "metadata": {},
   "outputs": [],
   "source": [
    "model_wireframe = Model(WIREFRAME_CONFIG)\n",
    "model_wireframe.create_and_deploy(role, session)"
   ]
  },
  {
   "cell_type": "markdown",
   "metadata": {},
   "source": [
    "### Deploy summarizer model"
   ]
  },
  {
   "cell_type": "code",
   "execution_count": null,
   "metadata": {},
   "outputs": [],
   "source": [
    "model_summarizer = Model(SUMMARIZER_MODEL_CONFIG)\n",
    "model_summarizer.create_and_deploy(role, session)"
   ]
  },
  {
   "cell_type": "markdown",
   "metadata": {},
   "source": [
    "### Deploy address extractor model"
   ]
  },
  {
   "cell_type": "code",
   "execution_count": null,
   "metadata": {},
   "outputs": [],
   "source": [
    "model_address = Model(ADDRESS_MODEL_CONFIG)\n",
    "model_address.create_and_deploy(role, session)"
   ]
  },
  {
   "cell_type": "markdown",
   "metadata": {},
   "source": [
    "### Deploy expert ticket suggestion model"
   ]
  },
  {
   "cell_type": "code",
   "execution_count": null,
   "metadata": {},
   "outputs": [],
   "source": [
    "model_experts = Model(EXPERT_TICKETS_MODEL_CONFIG)\n",
    "model_experts.create_and_deploy(role, session)"
   ]
  },
  {
   "cell_type": "markdown",
   "metadata": {},
   "source": [
    "# Inference"
   ]
  },
  {
   "cell_type": "markdown",
   "metadata": {},
   "source": [
    "First, let's define the class to simplify the invocation of the models"
   ]
  },
  {
   "cell_type": "code",
   "execution_count": 7,
   "metadata": {},
   "outputs": [],
   "source": [
    "class ModelEndpoint():\n",
    "    \n",
    "    def __init__(self, config, runtime):           \n",
    "        self.content_type = config['content_type']\n",
    "        self.endpoint = config['name']\n",
    "        self.runtime = runtime\n",
    "        \n",
    "    def predict(self, params):          \n",
    "        # Send data via InvokeEndpoint API\n",
    "        response = self.runtime.invoke_endpoint(EndpointName=self.endpoint, ContentType=self.content_type, Body=params)\n",
    "        # Unpack response\n",
    "        result = response['Body'].read().decode()\n",
    "        return result   \n"
   ]
  },
  {
   "cell_type": "markdown",
   "metadata": {},
   "source": [
    "Now let's create the endpoint reference for each model"
   ]
  },
  {
   "cell_type": "code",
   "execution_count": 8,
   "metadata": {},
   "outputs": [],
   "source": [
    "runtime = boto3.Session().client('sagemaker-runtime')\n",
    "\n",
    "address_model_endpoint = ModelEndpoint(ADDRESS_MODEL_CONFIG, runtime)\n",
    "wireframe_model_endpoint = ModelEndpoint(WIREFRAME_CONFIG, runtime)\n",
    "expert_tickets_model_endpoint = ModelEndpoint(EXPERT_TICKETS_MODEL_CONFIG, runtime)\n",
    "summarizer_model_endpoint = ModelEndpoint(SUMMARIZER_MODEL_CONFIG, runtime) \n",
    "similarity_model_endpoint = ModelEndpoint(SIMILARITY_CONFIG, runtime)\n",
    "passport_model_endpoint = ModelEndpoint(PASSPORT_CONFIG, runtime)"
   ]
  },
  {
   "cell_type": "markdown",
   "metadata": {},
   "source": [
    "\n",
    "## Inference on Mphasis DeepInsights Address Extraction\n"
   ]
  },
  {
   "cell_type": "code",
   "execution_count": 31,
   "metadata": {},
   "outputs": [
    {
     "data": {
      "text/plain": [
       "',Addresses\\n0,OVERSEAS BROKER 331 E 132nd St Mott Haven USA\\n'"
      ]
     },
     "execution_count": 31,
     "metadata": {},
     "output_type": "execute_result"
    }
   ],
   "source": [
    "address_model_endpoint.predict('RKH Specialty Page 3 of 4 UMR: B0180 ME1706357 Fiscal and Regulatory Section TAX PAYABLE BY INSURER(S): None applicable. COUNTRY OF ORIGIN: United States of America. OVERSEAS BROKER: 331 E 132nd St Mott Haven, USA')"
   ]
  },
  {
   "cell_type": "markdown",
   "metadata": {},
   "source": [
    "## Inference on Mphasis Autocode WireframeToCode\n"
   ]
  },
  {
   "cell_type": "code",
   "execution_count": 36,
   "metadata": {},
   "outputs": [
    {
     "name": "stdout",
     "output_type": "stream",
     "text": [
      "{'generated_webpage_html': '<!DOCTYPE html>\\n\\n<html lang=\"en\">\\n\\n<head>\\n\\n  <title>Bootstrap Example</title>\\n  <meta charset=\"utf-8\">\\n  <meta name=\"viewport\" content=\"width=device-width, initial-scale=1\">\\n  <link rel=\"stylesheet\" href=\"https://maxcdn.bootstrapcdn.com/bootstrap/4.1.0/css/bootstrap.min.css\">\\n  <link rel=\"stylesheet\" href=\"https://cdnjs.cloudflare.com/ajax/libs/font-awesome/4.7.0/css/font-awesome.min.css\">\\n  <link href=\"https://fonts.googleapis.com/icon?family=Material+Icons\" rel=\"stylesheet\">\\n  <script src=\"https://maxcdn.bootstrapcdn.com/bootstrap/4.1.0/js/bootstrap.min.js\"></script>\\n  <link rel=\"stylesheet\" href=\"autocodeai-form.css\">\\n\\n</head>\\n\\n<body>\\n\\n<header>\\n\\n</header>\\n\\n<main class=\"main\">\\n\\n<form>\\n\\n\\n\\n            <div style=\"position:absolute;top:128px;left:112px;\">\\n            <label for=\"comment\" style=\"width:288px;height:48px\">Label</label>\\n            </div>\\n            \\n                <div style=\"position:absolute;top:192px;left:112px;\">\\n\\n                      \\n\\n                      <input type=\"text\" placeholder=\"enter the text\" class=\"form-control\" id=\"usr\" name=\"username\" style=\"width:304px;height:64px\">\\n\\n                    </div>\\n\\n                \\n            <div style=\"position:absolute;top:288px;left:128px;\">\\n            <label for=\"comment\" style=\"width:160px;height:48px\">Label</label>\\n            </div>\\n            \\n                <div style=\"position:absolute;top:336px;left:128px;\">\\n\\n                      \\n\\n                      <input type=\"text\" placeholder=\"enter the text\" class=\"form-control\" id=\"usr\" name=\"username\" style=\"width:288px;height:80px\">\\n\\n                    </div>\\n\\n                \\n            <div style=\"position:absolute;top:432px;left:128px;\">\\n            <label for=\"comment\" style=\"width:240px;height:64px\">Label</label>\\n            </div>\\n            \\n                <div style=\"position:absolute;top:496px;left:128px;\">\\n\\n                      \\n\\n                      <input type=\"text\" placeholder=\"enter the text\" class=\"form-control\" id=\"usr\" name=\"username\" style=\"width:320px;height:64px\">\\n\\n                    </div>\\n\\n                \\n                <div style=\"position:absolute;top:576px;left:128px;\" >\\n\\n                 <button type=\"submit\" class=\"btn btn-primary\" style=\"width:320px;height:80px\">Register</button>\\n\\n                    </div>\\n\\n                \\n\\n</form>\\n\\n</main>\\n\\n<footer>\\n\\n<nav class=\"navbar navbar-expand-sm bg-secondary navbar-dark\">\\n\\n     <div class=\"footer\"> © 2018</div>\\n\\n  </ul>\\n\\n</nav>\\n\\n</footer>\\n\\n \\n\\n</body>\\n\\n</html>\\n\\n', 'generated_webpage_css': '<style>\\n.main {\\n  position: relative;\\n  height: 118vh;\\n  min-width: 647px;\\n}\\n.form-group .logo {\\n  border-bottom: 1px solid #ddd;\\n  padding-bottom: 14px;\\n  margin-bottom: 21px;\\n}\\n.form-group .logo img {\\n  width: 125px;\\n  height: 41px;\\n}\\n.footer{\\n  padding: 0 32px;\\n  color: #fff;\\n  margin: 0 auto;\\n}\\ntextarea#comment {\\n  height: 70px;\\n}\\ninput.form-control,textarea.form-control,select.form-control {\\n  position: relative;\\n  bottom: 5px;\\n  left: 13px;\\n}\\n.col-sm-6 input.form-control,.col-sm-6 textarea.form-control{\\n  width: 50%;\\n}\\nlabel{\\n  float:left;\\n}\\n.form-group,.col-sm-6,.col-sm-3 {\\n  margin: 14px 0;\\n}\\nfooter nav.navbar.navbar-expand-sm.bg-secondary.navbar-dark {\\n  display: none;\\n}\\nfooter {\\n  position: fixed;\\n  left: 0;\\n  bottom: 0;\\n  width: 100%;\\n  text-align: center;\\n  background-color: #575252;\\n  z-index: 100;\\n  color: #fff;\\n}\\n.col-sm-6 input.form-control, .col-sm-6 textarea.form-control {\\n  width: 50% !important;\\n}\\n.table td, .table th{\\n  padding:0;\\n}\\nspan.fa.fa-search {\\n position: relative;\\n top: -46px;\\n right: -9px;\\n border-left: 1px solid #ccc;\\n padding: 10px;\\n color: #9e9595;\\n float: right;\\n}\\ninput[type=search]{\\n  -webkit-box-sizing: border-box;\\n  box-sizing: border-box;\\n  border: 2px solid #ccc;\\n  border-radius: 4px;\\n  font-size: 16px;\\n  outline: 0;\\n  padding: 12px 33px 12px 10px;\\n  -webkit-transition: width 0.4s ease-in-out;\\n  transition: width 0.4s ease-in-out;\\n  -webkit-box-shadow: 3px 3px 2px #ccc;\\n  box-shadow: 3px 3px 2px #ccc;\\n}\\np{\\n  border: 1px solid #9e9696;\\n  text-align: center;\\n}</style>'}\n"
     ]
    }
   ],
   "source": [
    "with open('./data-input/wireframe.jpg','rb') as f:\n",
    "    image = f.read()\n",
    "    \n",
    "result = wireframe_model_endpoint.predict(image)\n",
    "result_json = json.loads(result)\n",
    "\n",
    "print (result_json)"
   ]
  },
  {
   "cell_type": "markdown",
   "metadata": {},
   "source": [
    "## Inference on Mphasis Optimize.AI Expert Identifier\n"
   ]
  },
  {
   "cell_type": "code",
   "execution_count": 9,
   "metadata": {},
   "outputs": [
    {
     "name": "stdout",
     "output_type": "stream",
     "text": [
      ",Request ID,Request Submitted Date and Time,Request Priority,Request Category,Request Status,Request Resolved By\n",
      "0,45098,2019-02-25,3-Low,IT Department,Open,Paul\n",
      "\n"
     ]
    }
   ],
   "source": [
    "input_csv = open('./data-input/experts-tickets.csv').read()\n",
    "result_expert = expert_tickets_model_endpoint.predict(input_csv)\n",
    "\n",
    "print (result_expert)"
   ]
  },
  {
   "cell_type": "markdown",
   "metadata": {},
   "source": [
    "## Inference on Mphasis DeepInsights Text Summarizer\n"
   ]
  },
  {
   "cell_type": "code",
   "execution_count": 41,
   "metadata": {
    "scrolled": true
   },
   "outputs": [
    {
     "data": {
      "text/plain": [
       "'Eu-us and swiss-us privacy shield what personal information about customers does amazon europe collect ?we collect your personal information in order to provide and continually improve our products and services. Automatic information : we automatically receive and store certain types of information when you use amazon services , such as information about your use , including your interaction with content and services available through amazon services.\\nExecution time : 2.46seconds\\n'"
      ]
     },
     "execution_count": 41,
     "metadata": {},
     "output_type": "execute_result"
    }
   ],
   "source": [
    "text_privacy = open('./data-input/Policy Document.txt').read()\n",
    "summarizer_model_endpoint.predict(text_privacy)"
   ]
  },
  {
   "cell_type": "markdown",
   "metadata": {},
   "source": [
    "## Inference on Passport Data Page Detection"
   ]
  },
  {
   "cell_type": "code",
   "execution_count": 45,
   "metadata": {},
   "outputs": [
    {
     "name": "stdout",
     "output_type": "stream",
     "text": [
      "{\n",
      "    \"data\": {\n",
      "        \"check_composite\": \"2\",\n",
      "        \"check_date_of_birth\": \"8\",\n",
      "        \"check_expiration_date\": \"2\",\n",
      "        \"check_number\": \"2\",\n",
      "        \"check_personal_number\": \"0\",\n",
      "        \"country\": \"United Kingdom of Great Britain and Northern Ireland\",\n",
      "        \"date_of_birth\": \"17/01/1985\",\n",
      "        \"expiration_date\": \"31/01/2016\",\n",
      "        \"expired\": \"true\",\n",
      "        \"names\": \"GUSTAVO ZMR\",\n",
      "        \"nationality\": \"GBR\",\n",
      "        \"number\": \"107185703\",\n",
      "        \"personal_number\": \"\",\n",
      "        \"sex\": \"Male\",\n",
      "        \"surname\": \"UNITED KINGDOH FIVE\",\n",
      "        \"valid_composite\": true,\n",
      "        \"valid_date_of_birth\": true,\n",
      "        \"valid_expiration_date\": true,\n",
      "        \"valid_number\": true,\n",
      "        \"valid_personal_number\": true,\n",
      "        \"valid_score\": 100\n",
      "    },\n",
      "    \"reason\": \"\",\n",
      "    \"valid\": true\n",
      "}\n"
     ]
    }
   ],
   "source": [
    "with open('./data-input/passport.jpg','rb') as f:\n",
    "    content = f.read()\n",
    "\n",
    "response = passport_model_endpoint.predict(content)\n",
    "\n",
    "print(json.dumps(json.loads(response), indent=4, sort_keys=True))"
   ]
  },
  {
   "cell_type": "markdown",
   "metadata": {},
   "source": [
    "# Remove models and endpoints"
   ]
  },
  {
   "cell_type": "code",
   "execution_count": null,
   "metadata": {},
   "outputs": [],
   "source": [
    "model_passport.cleanup()\n",
    "model_wireframe.cleanup()\n",
    "model_summarizer.cleanup()\n",
    "model_address.cleanup()\n",
    "model_experts.cleanup()"
   ]
  }
 ],
 "metadata": {
  "kernelspec": {
   "display_name": "Python 3",
   "language": "python",
   "name": "python3"
  },
  "language_info": {
   "codemirror_mode": {
    "name": "ipython",
    "version": 3
   },
   "file_extension": ".py",
   "mimetype": "text/x-python",
   "name": "python",
   "nbconvert_exporter": "python",
   "pygments_lexer": "ipython3",
   "version": "3.7.3"
  }
 },
 "nbformat": 4,
 "nbformat_minor": 2
}
