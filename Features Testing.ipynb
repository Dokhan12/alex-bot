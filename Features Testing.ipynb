{
 "cells": [
  {
   "cell_type": "markdown",
   "metadata": {},
   "source": [
    "# Prerequisites\n",
    "\n",
    "To start testing, you need to configure some settings below. "
   ]
  },
  {
   "cell_type": "code",
   "execution_count": null,
   "metadata": {},
   "outputs": [],
   "source": [
    "!pip install boto3\n",
    "!pip install sagemaker"
   ]
  },
  {
   "cell_type": "code",
   "execution_count": 1,
   "metadata": {},
   "outputs": [],
   "source": [
    "import config"
   ]
  },
  {
   "cell_type": "markdown",
   "metadata": {},
   "source": [
    "### AWS account\n",
    "Required please change"
   ]
  },
  {
   "cell_type": "code",
   "execution_count": null,
   "metadata": {},
   "outputs": [],
   "source": [
    "config.ACCOUNT_ID = ''"
   ]
  },
  {
   "cell_type": "markdown",
   "metadata": {},
   "source": [
    "### Bucket config\n",
    "Required, create a bucket in region us-east-1 and put it here"
   ]
  },
  {
   "cell_type": "code",
   "execution_count": 33,
   "metadata": {},
   "outputs": [],
   "source": [
    "config.BOT_FILES_BUCKET_NAME = 'alex-bot-files'"
   ]
  },
  {
   "cell_type": "markdown",
   "metadata": {},
   "source": [
    "### Amazon Kendra config\n",
    "Optional, but you won't be able to test Open ticket, Ask Question and Find Document"
   ]
  },
  {
   "cell_type": "code",
   "execution_count": 28,
   "metadata": {},
   "outputs": [],
   "source": [
    "config.KENDRA_COMPANY_INDEX = 'c6af1133-0186-4d6e-b638-79083cb5d91d'"
   ]
  },
  {
   "cell_type": "markdown",
   "metadata": {},
   "source": [
    "### Trello config\n",
    "Optional, but you won't be able to use the method add_task (althoug you will can generate a wireframe).\n",
    "\n",
    "To get a key and token, go to [https://trello.com/app-key](https://trello.com/app-key)"
   ]
  },
  {
   "cell_type": "code",
   "execution_count": 24,
   "metadata": {},
   "outputs": [],
   "source": [
    "config.AUTH_TRELLO = {\n",
    "    'key': '7f55ab53aa45b172d5d4c5d31697f9ca',\n",
    "    'token': '2677eddf219e5f5fe5d7cf29bc4b32afebbb453755a2fdd4c8ddd4557abba00b'    \n",
    "}\n",
    "\n",
    "config.TRELLO_BOARD_ID = 'gPd36jmG'"
   ]
  },
  {
   "cell_type": "code",
   "execution_count": 6,
   "metadata": {},
   "outputs": [],
   "source": [
    "from lambda_ask_question import find_document\n",
    "from lambda_find_document import summarize_document\n",
    "from lambda_open_ticket import ask_knowledge_base\n",
    "from lambda_open_ticket import create_ticket\n",
    "from lambda_add_task import add_task\n",
    "from lambda_add_task import generate_wireframe\n",
    "from lambda_track_expense import extract_expense_from_image_data\n",
    "from lambda_send_passport import extract_info_passport_from_image"
   ]
  },
  {
   "cell_type": "markdown",
   "metadata": {},
   "source": [
    "# Send passport\n",
    "- Here is my passport"
   ]
  },
  {
   "cell_type": "code",
   "execution_count": 4,
   "metadata": {},
   "outputs": [
    {
     "data": {
      "text/plain": [
       "{'ExpirationDate': '17/01/1985',\n",
       " 'BirthDate': '31/01/2016',\n",
       " 'PassportNumber': '107185703'}"
      ]
     },
     "execution_count": 4,
     "metadata": {},
     "output_type": "execute_result"
    }
   ],
   "source": [
    "image_data = open('./data-input/passport.jpg','rb').read()\n",
    "extract_info_passport_from_image(image_data)"
   ]
  },
  {
   "cell_type": "markdown",
   "metadata": {},
   "source": [
    "## Add task\n",
    "\n",
    "- Can you add a task?\n",
    "- Sure, what is the title of your task?\n",
    "- Finish signup page\n",
    "- Great! Anything else?\n",
    "- Add this wireframe"
   ]
  },
  {
   "cell_type": "markdown",
   "metadata": {},
   "source": [
    "To test the wireframe generation, please upload the picture named `wireframe.jpg`( found in this repo data-input folder) to your bucket."
   ]
  },
  {
   "cell_type": "code",
   "execution_count": 26,
   "metadata": {},
   "outputs": [
    {
     "data": {
      "text/plain": [
       "'https://alex-bot-files.s3.amazonaws.com/90247a889b20b674541cff05862335e3.html'"
      ]
     },
     "execution_count": 26,
     "metadata": {},
     "output_type": "execute_result"
    }
   ],
   "source": [
    "generate_wireframe('wireframe.jpg')"
   ]
  },
  {
   "cell_type": "markdown",
   "metadata": {},
   "source": [
    "Now that we generated the wireframe, let's create the Trello card"
   ]
  },
  {
   "cell_type": "code",
   "execution_count": 3,
   "metadata": {},
   "outputs": [
    {
     "data": {
      "text/plain": [
       "'https://trello.com/c/CvjXVooq'"
      ]
     },
     "execution_count": 3,
     "metadata": {},
     "output_type": "execute_result"
    }
   ],
   "source": [
    "add_task({'name':'My awesome task','attachments':[\n",
    "    {'url':'https://alex-bot-files.s3.amazonaws.com/wireframe.jpg'},\n",
    "    {'url':'https://alex-bot-files.s3.amazonaws.com/90247a889b20b674541cff05862335e3.html'}\n",
    "]})"
   ]
  },
  {
   "cell_type": "markdown",
   "metadata": {},
   "source": [
    "## Track Expense\n",
    "\n",
    "- Can you add this expense for me?\n"
   ]
  },
  {
   "cell_type": "code",
   "execution_count": 4,
   "metadata": {},
   "outputs": [
    {
     "data": {
      "text/plain": [
       "{'Price': '13.54', 'Location': 'Guildford', 'Store': 'Co-op'}"
      ]
     },
     "execution_count": 4,
     "metadata": {},
     "output_type": "execute_result"
    }
   ],
   "source": [
    "image_data = open('./data-input/expense.jpg','rb').read()\n",
    "extract_expense_from_image_data(image_data)"
   ]
  },
  {
   "cell_type": "markdown",
   "metadata": {},
   "source": [
    "## Open ticket\n",
    "\n",
    "- Alex, can you open a ticket?\n",
    "- Sure, what do you need?\n",
    "- My internet is not working\n",
    "- I have found an article about your issue:"
   ]
  },
  {
   "cell_type": "code",
   "execution_count": 4,
   "metadata": {},
   "outputs": [
    {
     "data": {
      "text/plain": [
       "{'Summary': 'Wait 2-5 minutes before plugging it back in.\\n\\n\\n3. Wait 5 more minutes and retry the connection.\\n\\n\\nIn most cases, this should x your issue and allow you to get back online. If you go through\\nthese steps and something still isnt working, you may need to contact your internet\\nservice provider for assistance.\\n\\n\\nUnderstanding Your Routers Icons\\n\\n\\nMost routers have a series of icons that illuminate to convey dierent status messages at a\\nglance. Though these can vary from brand to brand, most manufacturers include at least\\nthree primary status indicators:\\n\\n\\nWiFi not working\\n\\n\\nWiFi slowed down\\n\\n\\nWiFi network disappearing\\n\\n\\nDevices that wont connect to Wi\\n\\n\\nGlobe icon: solid when modem is connected to the Internet.'}"
      ]
     },
     "execution_count": 4,
     "metadata": {},
     "output_type": "execute_result"
    }
   ],
   "source": [
    "ask_knowledge_base({'query':'My internet is not working'})"
   ]
  },
  {
   "cell_type": "markdown",
   "metadata": {},
   "source": [
    "- Does this solve your problem?\n",
    "- No"
   ]
  },
  {
   "cell_type": "code",
   "execution_count": 2,
   "metadata": {},
   "outputs": [
    {
     "data": {
      "text/plain": [
       "{'TicketNumber': 48001, 'Assignee': 'Paul', 'Category': 'IT Department'}"
      ]
     },
     "execution_count": 2,
     "metadata": {},
     "output_type": "execute_result"
    }
   ],
   "source": [
    "create_ticket({'query':'My internet is not working'})"
   ]
  },
  {
   "cell_type": "markdown",
   "metadata": {},
   "source": [
    "## Summarize a document\n",
    "\n",
    "- Alex, can you a find a document?\n",
    "- Sure, what is your document about?\n",
    "- Privacy policy"
   ]
  },
  {
   "cell_type": "code",
   "execution_count": 7,
   "metadata": {},
   "outputs": [
    {
     "data": {
      "text/plain": [
       "{'Summary': 'We collect your personal information in order to provide and continually improve our products and services. What personal information about customers does amazon europe collect ?provide , troubleshoot , and improve amazon services.'}"
      ]
     },
     "execution_count": 7,
     "metadata": {},
     "output_type": "execute_result"
    }
   ],
   "source": [
    "summarize_document({'Description': 'Privacy policy'})"
   ]
  },
  {
   "cell_type": "markdown",
   "metadata": {},
   "source": [
    "## Ask a question\n",
    "\n",
    "- Alex, ask Alex Bot How many vacation weeks I have on my first year?' "
   ]
  },
  {
   "cell_type": "code",
   "execution_count": 4,
   "metadata": {},
   "outputs": [
    {
     "data": {
      "text/plain": [
       "{'Summary': \"Amazon.\\ncom's salaried employees earn two weeks of vacation time in their first year of employment and three weeks of vacation in their\\nsecond year\"}"
      ]
     },
     "execution_count": 4,
     "metadata": {},
     "output_type": "execute_result"
    }
   ],
   "source": [
    "find_document({'Description': 'How many vacation weeks I have on my first year?'})"
   ]
  },
  {
   "cell_type": "code",
   "execution_count": null,
   "metadata": {},
   "outputs": [],
   "source": []
  }
 ],
 "metadata": {
  "kernelspec": {
   "display_name": "Python 3",
   "language": "python",
   "name": "python3"
  },
  "language_info": {
   "codemirror_mode": {
    "name": "ipython",
    "version": 3
   },
   "file_extension": ".py",
   "mimetype": "text/x-python",
   "name": "python",
   "nbconvert_exporter": "python",
   "pygments_lexer": "ipython3",
   "version": "3.7.3"
  }
 },
 "nbformat": 4,
 "nbformat_minor": 2
}
